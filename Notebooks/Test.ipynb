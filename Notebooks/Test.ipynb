{
 "cells": [
  {
   "cell_type": "code",
   "execution_count": 1,
   "id": "d809b905-3929-4acd-9dfb-23799a5c6b84",
   "metadata": {},
   "outputs": [],
   "source": [
    "import pandas as pd"
   ]
  },
  {
   "cell_type": "code",
   "execution_count": 2,
   "id": "24c582a7-c590-4ebb-aa04-383d5e94970c",
   "metadata": {},
   "outputs": [],
   "source": [
    "Dataset = pd.read_csv(\"../Data/Votes_2021_11_27.csv\")"
   ]
  },
  {
   "cell_type": "code",
   "execution_count": 3,
   "id": "85a5f147-c651-4f0b-ab51-e8c3d8af03b9",
   "metadata": {},
   "outputs": [
    {
     "data": {
      "text/html": [
       "<div>\n",
       "<style scoped>\n",
       "    .dataframe tbody tr th:only-of-type {\n",
       "        vertical-align: middle;\n",
       "    }\n",
       "\n",
       "    .dataframe tbody tr th {\n",
       "        vertical-align: top;\n",
       "    }\n",
       "\n",
       "    .dataframe thead th {\n",
       "        text-align: right;\n",
       "    }\n",
       "</style>\n",
       "<table border=\"1\" class=\"dataframe\">\n",
       "  <thead>\n",
       "    <tr style=\"text-align: right;\">\n",
       "      <th></th>\n",
       "      <th>Votes</th>\n",
       "      <th>Score</th>\n",
       "      <th>English_Name</th>\n",
       "      <th>Favourites_count</th>\n",
       "      <th>Popularity_ranking</th>\n",
       "    </tr>\n",
       "  </thead>\n",
       "  <tbody>\n",
       "    <tr>\n",
       "      <th>0</th>\n",
       "      <td>677447</td>\n",
       "      <td>10</td>\n",
       "      <td>Death Note</td>\n",
       "      <td>145023.0</td>\n",
       "      <td>1</td>\n",
       "    </tr>\n",
       "    <tr>\n",
       "      <th>1</th>\n",
       "      <td>668585</td>\n",
       "      <td>9</td>\n",
       "      <td>Death Note</td>\n",
       "      <td>145023.0</td>\n",
       "      <td>1</td>\n",
       "    </tr>\n",
       "    <tr>\n",
       "      <th>2</th>\n",
       "      <td>519533</td>\n",
       "      <td>8</td>\n",
       "      <td>Death Note</td>\n",
       "      <td>145023.0</td>\n",
       "      <td>1</td>\n",
       "    </tr>\n",
       "    <tr>\n",
       "      <th>3</th>\n",
       "      <td>247163</td>\n",
       "      <td>7</td>\n",
       "      <td>Death Note</td>\n",
       "      <td>145023.0</td>\n",
       "      <td>1</td>\n",
       "    </tr>\n",
       "    <tr>\n",
       "      <th>4</th>\n",
       "      <td>82598</td>\n",
       "      <td>6</td>\n",
       "      <td>Death Note</td>\n",
       "      <td>145023.0</td>\n",
       "      <td>1</td>\n",
       "    </tr>\n",
       "  </tbody>\n",
       "</table>\n",
       "</div>"
      ],
      "text/plain": [
       "    Votes  Score English_Name  Favourites_count  Popularity_ranking\n",
       "0  677447     10   Death Note          145023.0                   1\n",
       "1  668585      9   Death Note          145023.0                   1\n",
       "2  519533      8   Death Note          145023.0                   1\n",
       "3  247163      7   Death Note          145023.0                   1\n",
       "4   82598      6   Death Note          145023.0                   1"
      ]
     },
     "execution_count": 3,
     "metadata": {},
     "output_type": "execute_result"
    }
   ],
   "source": [
    "Dataset.head()"
   ]
  },
  {
   "cell_type": "code",
   "execution_count": null,
   "id": "0ba04127-592a-4ece-a694-3378d93461e5",
   "metadata": {},
   "outputs": [],
   "source": []
  }
 ],
 "metadata": {
  "kernelspec": {
   "display_name": "Python 3 (ipykernel)",
   "language": "python",
   "name": "python3"
  },
  "language_info": {
   "codemirror_mode": {
    "name": "ipython",
    "version": 3
   },
   "file_extension": ".py",
   "mimetype": "text/x-python",
   "name": "python",
   "nbconvert_exporter": "python",
   "pygments_lexer": "ipython3",
   "version": "3.9.7"
  }
 },
 "nbformat": 4,
 "nbformat_minor": 5
}
